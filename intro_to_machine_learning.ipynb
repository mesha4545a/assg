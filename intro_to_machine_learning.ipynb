{
  "nbformat": 4,
  "nbformat_minor": 0,
  "metadata": {
    "colab": {
      "name": "intro_to_machine_learning.ipynb",
      "provenance": [],
      "authorship_tag": "ABX9TyMBu70iWJE+zsDlofseypdE",
      "include_colab_link": true
    },
    "kernelspec": {
      "name": "python3",
      "display_name": "Python 3"
    }
  },
  "cells": [
    {
      "cell_type": "markdown",
      "metadata": {
        "id": "view-in-github",
        "colab_type": "text"
      },
      "source": [
        "<a href=\"https://colab.research.google.com/github/mesha4545a/assg/blob/main/intro_to_machine_learning.ipynb\" target=\"_parent\"><img src=\"https://colab.research.google.com/assets/colab-badge.svg\" alt=\"Open In Colab\"/></a>"
      ]
    },
    {
      "cell_type": "code",
      "metadata": {
        "id": "VIGVevgaF1R2"
      },
      "source": [
        "%%capture\r\n",
        "# STARTER CODE - RUN THIS CELL - DO NOT CHANGE\r\n",
        "!pip install category_encoders\r\n",
        "import seaborn as sns\r\n",
        "import pandas as pd\r\n",
        "import numpy as np\r\n",
        "import matplotlib.pyplot as plt\r\n",
        "import category_encoders as ce\r\n",
        "from sklearn.linear_model import LinearRegression, LogisticRegression\r\n",
        "from sklearn.preprocessing import StandardScaler\r\n",
        "from sklearn.model_selection import train_test_split\r\n",
        "from sklearn.pipeline import make_pipeline\r\n",
        "from sklearn.metrics import mean_squared_error, mean_absolute_error, accuracy_score, accuracy_score, recall_score, precision_score\r\n",
        "df_r = sns.load_dataset(\"tips\").dropna()\r\n",
        "df_c = sns.load_dataset(\"titanic\").dropna()\r\n",
        "model_r = LinearRegression()\r\n",
        "model_c = LogisticRegression()\r\n",
        "x_train_r, x_test_r, y_train_r, y_test_r = train_test_split(df_r.drop(\"total_bill\", axis=1), df_r[\"total_bill\"])\r\n",
        "x_train_c, x_test_c, y_train_c, y_test_c = train_test_split(df_c.drop([\"survived\", \"alive\", \"adult_male\"], axis=1), df_c[\"survived\"])\r\n",
        "pipe_r = make_pipeline(ce.OrdinalEncoder(), StandardScaler(), LinearRegression()).fit(x_train_r, y_train_r)\r\n",
        "pipe_c = make_pipeline(ce.OrdinalEncoder(), StandardScaler(), LogisticRegression()).fit(x_train_c, y_train_c)\r\n",
        "y_pred_r = pipe_r.predict(x_test_r)\r\n",
        "y_pred_c = pipe_c.predict(x_test_c)"
      ],
      "execution_count": null,
      "outputs": []
    },
    {
      "cell_type": "code",
      "metadata": {
        "colab": {
          "base_uri": "https://localhost:8080/"
        },
        "id": "5_dMexE4F6Nx",
        "outputId": "a6a6943a-ca22-4bf6-fc36-be3b14ddc297"
      },
      "source": [
        "# Create a Mean Squared Error Function\r\n",
        "def mse(y_true, y_pred):\r\n",
        "  return sum((y_pred - y_true)**2/len(y_true))\r\n",
        "\r\n",
        "mse(y_test_r, y_pred_r)"
      ],
      "execution_count": null,
      "outputs": [
        {
          "output_type": "execute_result",
          "data": {
            "text/plain": [
              "33.042585105949996"
            ]
          },
          "metadata": {
            "tags": []
          },
          "execution_count": 11
        }
      ]
    },
    {
      "cell_type": "code",
      "metadata": {
        "colab": {
          "base_uri": "https://localhost:8080/"
        },
        "id": "DKUxhD30KzGA",
        "outputId": "c8057cc1-93da-4cf2-97f7-f7356e4b50c5"
      },
      "source": [
        "mean_squared_error(y_test_r, y_pred_r)"
      ],
      "execution_count": null,
      "outputs": [
        {
          "output_type": "execute_result",
          "data": {
            "text/plain": [
              "33.04258510595001"
            ]
          },
          "metadata": {
            "tags": []
          },
          "execution_count": 9
        }
      ]
    },
    {
      "cell_type": "code",
      "metadata": {
        "colab": {
          "base_uri": "https://localhost:8080/"
        },
        "id": "yT5MSNC0Oq3m",
        "outputId": "2be42206-6d53-4f71-e0a7-4e8a6259b235"
      },
      "source": [
        "# Create a Mean Absolute Error Function\r\n",
        "def mae(y_true, y_pred):\r\n",
        "  return sum(abs(y_test_r - y_pred_r)/len(y_true))\r\n",
        "    \r\n",
        "\r\n",
        "mae(y_test_r, y_pred_r)"
      ],
      "execution_count": null,
      "outputs": [
        {
          "output_type": "execute_result",
          "data": {
            "text/plain": [
              "4.374431476089462"
            ]
          },
          "metadata": {
            "tags": []
          },
          "execution_count": 16
        }
      ]
    },
    {
      "cell_type": "code",
      "metadata": {
        "colab": {
          "base_uri": "https://localhost:8080/"
        },
        "id": "e6liH5wqROMM",
        "outputId": "c0bf187a-668a-44fc-be5b-0bd5dc1ad889"
      },
      "source": [
        "# Your Mean Absolute Error function should equal this value\r\n",
        "mean_absolute_error(y_test_r, y_pred_r)"
      ],
      "execution_count": null,
      "outputs": [
        {
          "output_type": "execute_result",
          "data": {
            "text/plain": [
              "4.374431476089462"
            ]
          },
          "metadata": {
            "tags": []
          },
          "execution_count": 14
        }
      ]
    },
    {
      "cell_type": "code",
      "metadata": {
        "colab": {
          "base_uri": "https://localhost:8080/"
        },
        "id": "EyG6UKw1R82w",
        "outputId": "7fe2def2-4060-4a73-c96e-6bf6196f21d5"
      },
      "source": [
        "# Create a Root Mean Squared Error Function\r\n",
        "def rmse(y_true, y_pred):\r\n",
        "  return math.sqrt(sum((y_test_r- y_pred_r)**2/len(y_pred)))\r\n",
        "    \r\n",
        "\r\n",
        "rmse(y_test_r, y_pred_r)"
      ],
      "execution_count": null,
      "outputs": [
        {
          "output_type": "execute_result",
          "data": {
            "text/plain": [
              "5.748268009231128"
            ]
          },
          "metadata": {
            "tags": []
          },
          "execution_count": 34
        }
      ]
    },
    {
      "cell_type": "code",
      "metadata": {
        "colab": {
          "base_uri": "https://localhost:8080/"
        },
        "id": "a3-OGMblSLw3",
        "outputId": "42ef5478-8b2f-4fde-91c2-4486bd2ccf9c"
      },
      "source": [
        "# Your Root Mean Squared Error function should equal this value\r\n",
        "mean_squared_error(y_test_r, y_pred_r, squared=False)"
      ],
      "execution_count": null,
      "outputs": [
        {
          "output_type": "execute_result",
          "data": {
            "text/plain": [
              "5.748268009231129"
            ]
          },
          "metadata": {
            "tags": []
          },
          "execution_count": 17
        }
      ]
    },
    {
      "cell_type": "code",
      "metadata": {
        "colab": {
          "base_uri": "https://localhost:8080/"
        },
        "id": "pofgp0lVVBa9",
        "outputId": "bf87254a-d3fb-4d01-d129-997f94e735c5"
      },
      "source": [
        "# Create a Sum of Squared Error Function\r\n",
        "def rss(y_true, y_pred):\r\n",
        "    return sum((y_true - y_pred)**2)\r\n",
        "\r\n",
        "rss(y_test_r, y_pred_r)\r\n"
      ],
      "execution_count": null,
      "outputs": [
        {
          "output_type": "execute_result",
          "data": {
            "text/plain": [
              "2015.5976914629512"
            ]
          },
          "metadata": {
            "tags": []
          },
          "execution_count": 37
        }
      ]
    },
    {
      "cell_type": "code",
      "metadata": {
        "colab": {
          "base_uri": "https://localhost:8080/"
        },
        "id": "odZBAwGVcVP5",
        "outputId": "24fbcda0-26e9-4d2a-bbb5-8ef16f211ffa"
      },
      "source": [
        "# Replace None with the correct value value\r\n",
        "true_positive = 0\r\n",
        "true_negative = 0\r\n",
        "false_positive = 0\r\n",
        "false_negative = 0\r\n",
        "\r\n",
        "# Write a loop to identify true positives, false negatives, false positives, and true negatives\r\n",
        "for x in range(len(y_test_c)):\r\n",
        "    if y_test_c.iloc[x] == y_pred_c[x]:\r\n",
        "        if y_pred_c[x] == 1:\r\n",
        "          true_positive = true_positive + 1\r\n",
        "              # add 1 to the true_positive, true_negative, false_positive or false_negative count (do this for each pass, each of the 4 should be represented once)\r\n",
        "        if y_pred_c[x] == 0:\r\n",
        "          true_negative = true_negative + 1\r\n",
        "    if y_test_c.iloc[x] != y_pred_c[x]:\r\n",
        "        if y_pred_c[x] == 1:\r\n",
        "          false_positive = false_positive + 1\r\n",
        "        if y_pred_c[x] == 0:\r\n",
        "          false_negative = false_negative + 1\r\n",
        "\r\n",
        "# Uncomment below when your loop works to see totals of each\r\n",
        "print(f\"True Positives: {true_positive}\\nTrue Negatives: {true_negative}\\nFalse Positives: {false_positive}\\nFalse Negatives: {false_negative}\")"
      ],
      "execution_count": null,
      "outputs": [
        {
          "output_type": "stream",
          "text": [
            "True Positives: 26\n",
            "True Negatives: 9\n",
            "False Positives: 2\n",
            "False Negatives: 9\n"
          ],
          "name": "stdout"
        }
      ]
    },
    {
      "cell_type": "code",
      "metadata": {
        "colab": {
          "base_uri": "https://localhost:8080/"
        },
        "id": "Mlm4mqGYgvN8",
        "outputId": "7087430f-eb99-49da-b986-5b7950006321"
      },
      "source": [
        "# Create A Function to Calculate Precision\r\n",
        "def precision(TP, FP):\r\n",
        "    precision = TP/(TP+FP)\r\n",
        "    return precision\r\n",
        "\r\n",
        "precision(true_positive, false_positive)"
      ],
      "execution_count": null,
      "outputs": [
        {
          "output_type": "execute_result",
          "data": {
            "text/plain": [
              "0.9285714285714286"
            ]
          },
          "metadata": {
            "tags": []
          },
          "execution_count": 51
        }
      ]
    },
    {
      "cell_type": "code",
      "metadata": {
        "colab": {
          "base_uri": "https://localhost:8080/"
        },
        "id": "V9yWNJU4hYmI",
        "outputId": "aa6dae45-bab8-4558-ad48-34e74a52ef70"
      },
      "source": [
        "# Your precision function should equal this value\r\n",
        "precision_score(y_test_c, y_pred_c)"
      ],
      "execution_count": null,
      "outputs": [
        {
          "output_type": "execute_result",
          "data": {
            "text/plain": [
              "0.9285714285714286"
            ]
          },
          "metadata": {
            "tags": []
          },
          "execution_count": 52
        }
      ]
    },
    {
      "cell_type": "code",
      "metadata": {
        "colab": {
          "base_uri": "https://localhost:8080/"
        },
        "id": "5h6RMrDchd0W",
        "outputId": "d713f47f-4db5-4693-fe35-dd84846c8727"
      },
      "source": [
        "# Create A Function to Calculate Recall\r\n",
        "def recall(TP, FN):\r\n",
        "    recal = TP/(TP+FN)\r\n",
        "    return recal\r\n",
        "\r\n",
        "recall(true_positive, false_negative)"
      ],
      "execution_count": null,
      "outputs": [
        {
          "output_type": "execute_result",
          "data": {
            "text/plain": [
              "0.7428571428571429"
            ]
          },
          "metadata": {
            "tags": []
          },
          "execution_count": 53
        }
      ]
    },
    {
      "cell_type": "code",
      "metadata": {
        "colab": {
          "base_uri": "https://localhost:8080/"
        },
        "id": "Ab_VI82wh07R",
        "outputId": "4172e373-ec4c-4643-d48c-d8c6e640a2e6"
      },
      "source": [
        "# Your recall function should equal this value\r\n",
        "recall_score(y_test_c, y_pred_c)"
      ],
      "execution_count": null,
      "outputs": [
        {
          "output_type": "execute_result",
          "data": {
            "text/plain": [
              "0.7428571428571429"
            ]
          },
          "metadata": {
            "tags": []
          },
          "execution_count": 54
        }
      ]
    },
    {
      "cell_type": "code",
      "metadata": {
        "colab": {
          "base_uri": "https://localhost:8080/"
        },
        "id": "5AQOY_PKh3Ds",
        "outputId": "95095604-7d6f-49da-e4f8-e64b0b654a82"
      },
      "source": [
        "# Create a Function to Calculate Accuracy\r\n",
        "def accuracy(TP, FP, TN, FN):\r\n",
        "    accuracy = (TP+TN)/(TP+TN+FP+FN)\r\n",
        "    return accuracy\r\n",
        "\r\n",
        "accuracy(true_positive, false_positive, true_negative, false_negative)"
      ],
      "execution_count": null,
      "outputs": [
        {
          "output_type": "execute_result",
          "data": {
            "text/plain": [
              "0.7608695652173914"
            ]
          },
          "metadata": {
            "tags": []
          },
          "execution_count": 56
        }
      ]
    },
    {
      "cell_type": "code",
      "metadata": {
        "colab": {
          "base_uri": "https://localhost:8080/"
        },
        "id": "-JVto2XDiStZ",
        "outputId": "cbe6e422-6777-4525-d0ee-8ef7647e0df0"
      },
      "source": [
        "# Your accuracy score function should equal this value\r\n",
        "accuracy_score(y_test_c, y_pred_c)"
      ],
      "execution_count": null,
      "outputs": [
        {
          "output_type": "execute_result",
          "data": {
            "text/plain": [
              "0.7608695652173914"
            ]
          },
          "metadata": {
            "tags": []
          },
          "execution_count": 57
        }
      ]
    }
  ]
}